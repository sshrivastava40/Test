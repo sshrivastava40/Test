{
 "cells": [
  {
   "cell_type": "code",
   "execution_count": 17,
   "id": "31e164b5",
   "metadata": {},
   "outputs": [
    {
     "name": "stdout",
     "output_type": "stream",
     "text": [
      "[10, 2, 0, 8, 6, 4, 3, 1]\n"
     ]
    }
   ],
   "source": [
    "#Ques 1. (i) Remove duplicates elements from a list?\n",
    "#(ii) Reverse the respective list?\n",
    "\n",
    "#list = [1,1,1,1,3,4,6,8,8,0,3,2,0,1,10]\n",
    "\n",
    "def duplicate(l):\n",
    "    res = []\n",
    "    [res.append(x) for x in l if x not in res]\n",
    "    return res[::-1]\n",
    "l = [1,1,1,1,3,4,6,8,8,0,3,2,0,1,10]\n",
    "print(duplicate(l))"
   ]
  },
  {
   "cell_type": "code",
   "execution_count": 2,
   "id": "308536ef",
   "metadata": {},
   "outputs": [
    {
     "name": "stdout",
     "output_type": "stream",
     "text": [
      "[{'name': '5star', 'price': 10}, {'name': 'lux Soap', 'price': 20}, {'name': 'T shirt', 'price': 500}, {'name': 'Jeans', 'price': 999}, {'name': 'headphone', 'price': 2000}, {'name': 'TV', 'price': 49999}]\n"
     ]
    }
   ],
   "source": [
    "#Quest 2. (i) Find the product name which has the highest price and lowest price?\n",
    "# (ii) Write a function to sort the product list in ascending or descending order of price or name?\n",
    "# (iii) Create a list of product name from the above json?\n",
    "import math\n",
    "'''{\n",
    "\"product\": [\n",
    "{\"name\": \"lux Soap\",\"price\": 20},\n",
    "{\"name\": \"T shirt\",\"price\": 500},\n",
    "{\"name\": \"Jeans\",\"price\": 999},\n",
    "{\"name\": \"headphone\",\"price\": 2000},\n",
    "{\"name\": \"TV\",\"price\": 49999},\n",
    "{\"name\": \"5star\",\"price\": 10}\n",
    "\t]\n",
    "}'''\n",
    "\n",
    "def question_first(arr):\n",
    "    low = math.inf\n",
    "    lowname = ''\n",
    "    highname = ''\n",
    "    high = -math.inf\n",
    "    for i in arr['product']:\n",
    "        if(i['price'] < low):\n",
    "            low = i['price']\n",
    "            lowname = i['name']\n",
    "        if(i['price'] > high):\n",
    "            high = i['price']\n",
    "            highname = i['name']\n",
    "    print(lowname , highname)\n",
    "def question_second(arr):\n",
    "    print(sorted(arr['product'], key = lambda d : d['price'] , reverse = False))\n",
    "def return_name(arr):\n",
    "    name = []\n",
    "    for row in arr[\"product\"] :\n",
    "            name.append(row[\"name\"])\n",
    "    return name\n",
    "\n",
    "arr = {\n",
    "\"product\": [\n",
    "{\"name\": \"lux Soap\",\"price\": 20},\n",
    "{\"name\": \"T shirt\",\"price\": 500},\n",
    "{\"name\": \"Jeans\",\"price\": 999},\n",
    "{\"name\": \"headphone\",\"price\": 2000},\n",
    "{\"name\": \"TV\",\"price\": 49999},\n",
    "{\"name\": \"5star\",\"price\": 10}]}\n",
    "\n",
    "question_second(arr)"
   ]
  },
  {
   "cell_type": "code",
   "execution_count": 11,
   "id": "ec2932f6",
   "metadata": {},
   "outputs": [
    {
     "name": "stdout",
     "output_type": "stream",
     "text": [
      "[123, 456, 12, 678, 901]\n"
     ]
    }
   ],
   "source": [
    "#Filter out all the integer value from the given list?\n",
    "\n",
    "#list = [\"123\", \"456\", \"12\", \"678\", \"901\", \"12A\", \"45b\", \"67Q\" ]\n",
    "\n",
    "def check_print(arr):\n",
    "    res = []\n",
    "    for e in arr:\n",
    "        try:\n",
    "            res.append(int(e))\n",
    "        except ValueError:\n",
    "            pass\n",
    "    return res\n",
    "arr = [\"123\", \"456\", \"12\", \"678\", \"901\", \"12A\", \"45b\", \"67Q\" ]\n",
    "print(check_print(arr))"
   ]
  },
  {
   "cell_type": "code",
   "execution_count": 7,
   "id": "b8872e8b",
   "metadata": {},
   "outputs": [
    {
     "name": "stdout",
     "output_type": "stream",
     "text": [
      "1\n",
      "2\n",
      "4\n"
     ]
    }
   ],
   "source": [
    "# Consider the two array/list find the variable present in both the list?\n",
    "def check_variable(arr1 , arr2) :\n",
    "    for row in arr1 :\n",
    "        if(row in arr2):\n",
    "            print(row)\n",
    "l1 = [1,2,3,4,5,6]\n",
    "l2 = [1,2,4,0,8]\n",
    "check_variable(l1,l2)"
   ]
  },
  {
   "cell_type": "code",
   "execution_count": 3,
   "id": "fc7416c1",
   "metadata": {},
   "outputs": [
    {
     "name": "stdout",
     "output_type": "stream",
     "text": [
      "1 2 3 4 5 \n",
      "2 6 7 8\n",
      "1 Present in first array\n",
      "2 Present in both the list \n",
      "3 Present in first array\n",
      "4 Present in first array\n",
      "5 Present in first array\n",
      "6 Present in second array\n",
      "7 Present in second array\n",
      "8 Present in second array\n"
     ]
    }
   ],
   "source": [
    "# Consider the two array/list find the variable (takes input from user) present in the first list or both the list if not in second and vice-versa?\n",
    "\n",
    "def check_list(arr1 , arr2):\n",
    "    res = []\n",
    "    for row in arr1 :\n",
    "        if(row in res):\n",
    "            pass\n",
    "        elif(row in arr2) :\n",
    "            res.append(row)\n",
    "            print(row , end = ' ')\n",
    "            print('Present in both the list ')\n",
    "        else :\n",
    "            res.append(row)\n",
    "            print(row , end = ' ')\n",
    "            print(\"Present in first array\")\n",
    "    for row in arr2 :\n",
    "        if(row in res):\n",
    "            pass\n",
    "        else :\n",
    "            print(row , end = ' ')\n",
    "            print(\"Present in second array\")\n",
    "arr1 = [int(a) for a in input().split()]\n",
    "arr2 = [int(b) for b in input().split()]\n",
    "check_list(arr1,arr2)"
   ]
  },
  {
   "cell_type": "code",
   "execution_count": null,
   "id": "425ebd06",
   "metadata": {},
   "outputs": [],
   "source": [
    "Q 1.- What is mongodb?\n",
    "\n",
    "     Mongodb is a NoSQL database management program . \n",
    "    NoSQL database are generally easy to use for large database  .\n",
    "Q 2. Is mongoDB relational DB or non -relation DB?\n",
    "\n",
    "    Mongodb is non-relational document database .\n",
    "    \n",
    "3. What is relational and non-relational database?\n",
    "\n",
    "    relational database - where data are stored in the form of rows and column .\n",
    "    non-relational database - NoSQL database , data are in the form of unorganised form  .\n",
    "    \n",
    "4. Difference between relational and non- relational database?\n",
    "\n",
    "    relational database is structured (data are stored in table). Different tables are connected with each other. \n",
    "    non-relational database are document-oriented . data get stored in more of a unorganised list order.\n",
    "    \n",
    "5. Pro and cons of non-relational database.\n",
    "    Advantage :- \n",
    "            1 - Can handle large amount of data . \n",
    "            2 - Few lines of code\n",
    "    Disadvantage :- \n",
    "            1 - Getting the solution in internet is very challanging\n",
    "6. What are crud operation?\n",
    "        CURD stand for create , update , read , delete \n",
    "        This operation come under DML (Data Manipulation Language)\n",
    "7. What is mongo aggregation?\n",
    "        "
   ]
  },
  {
   "cell_type": "code",
   "execution_count": 5,
   "id": "866a480a",
   "metadata": {},
   "outputs": [
    {
     "ename": "ModuleNotFoundError",
     "evalue": "No module named 'pymongo'",
     "output_type": "error",
     "traceback": [
      "\u001b[1;31m---------------------------------------------------------------------------\u001b[0m",
      "\u001b[1;31mModuleNotFoundError\u001b[0m                       Traceback (most recent call last)",
      "\u001b[1;32m~\\AppData\\Local\\Temp/ipykernel_2976/1659071764.py\u001b[0m in \u001b[0;36m<module>\u001b[1;34m\u001b[0m\n\u001b[0;32m      3\u001b[0m \u001b[1;31m# subjects – Maths, Science, English, Computer Science, Accounts\u001b[0m\u001b[1;33m\u001b[0m\u001b[1;33m\u001b[0m\u001b[0m\n\u001b[0;32m      4\u001b[0m \u001b[1;33m\u001b[0m\u001b[0m\n\u001b[1;32m----> 5\u001b[1;33m \u001b[1;32mimport\u001b[0m \u001b[0mpymongo\u001b[0m\u001b[1;33m\u001b[0m\u001b[1;33m\u001b[0m\u001b[0m\n\u001b[0m\u001b[0;32m      6\u001b[0m \u001b[1;32mimport\u001b[0m \u001b[0mrandom\u001b[0m\u001b[1;33m\u001b[0m\u001b[1;33m\u001b[0m\u001b[0m\n\u001b[0;32m      7\u001b[0m \u001b[0mmyclient\u001b[0m \u001b[1;33m=\u001b[0m \u001b[0mpymongo\u001b[0m\u001b[1;33m.\u001b[0m\u001b[0mMongoClient\u001b[0m\u001b[1;33m(\u001b[0m\u001b[1;34m\"mongodb://localhost:27017\"\u001b[0m\u001b[1;33m)\u001b[0m\u001b[1;33m\u001b[0m\u001b[1;33m\u001b[0m\u001b[0m\n",
      "\u001b[1;31mModuleNotFoundError\u001b[0m: No module named 'pymongo'"
     ]
    }
   ],
   "source": [
    "#write a python script to insert given students in students with different marks, use random to generate different marks between 5 to 12.\n",
    "# Student – Vikash, Rakesh, Monu, Bunty, Golu\n",
    "# subjects – Maths, Science, English, Computer Science, Accounts\n",
    "\n",
    "import pymongo\n",
    "import random\n",
    "myclient = pymongo.MongoClient(\"mongodb://localhost:27017\")\n",
    "mydb = myclient['testDB']\n",
    "mycol = ['Vikash' , 'Rakesh' , 'Monu' , \"Bunty\" , 'Golu']\n",
    "for name in students :\n",
    "    mydict = {'name':name , 'marks':random.randint(5,12)}\n",
    "    mycol.insert_one(mydict)"
   ]
  },
  {
   "cell_type": "code",
   "execution_count": null,
   "id": "a444962c",
   "metadata": {},
   "outputs": [],
   "source": [
    "2. Write mongo query to upsert class key into students’ collection.\n",
    "\n",
    "db.students.findAndModify({query :{$in : ['Vikash' , \"Rakesh\" , \"Monu\" , \"Bunty\" , \"Golu\"]} , update:{$set :class : \"8th\"},\n",
    "upsert:true})"
   ]
  },
  {
   "cell_type": "code",
   "execution_count": null,
   "id": "73a0915f",
   "metadata": {},
   "outputs": [],
   "source": [
    "3. Write mongo query to assign grade based on their marks.\n",
    "    If marks are above, equal to 5 and below 7, grade = c\n",
    "    If marks if equal to or above 7 and below 9, grade = b\n",
    "     else grade = a\n"
   ]
  },
  {
   "cell_type": "code",
   "execution_count": null,
   "id": "bb235fc8",
   "metadata": {},
   "outputs": [],
   "source": [
    "4. Write a mongo aggregation to calculate every student’s performance in percentage. (Total marks scored in all subjects)\n"
   ]
  },
  {
   "cell_type": "code",
   "execution_count": null,
   "id": "d3867d92",
   "metadata": {},
   "outputs": [],
   "source": [
    "5. Delete students with c grade.\n",
    "db.students.deleteMany({grade:\"c\"})"
   ]
  }
 ],
 "metadata": {
  "kernelspec": {
   "display_name": "Python 3 (ipykernel)",
   "language": "python",
   "name": "python3"
  },
  "language_info": {
   "codemirror_mode": {
    "name": "ipython",
    "version": 3
   },
   "file_extension": ".py",
   "mimetype": "text/x-python",
   "name": "python",
   "nbconvert_exporter": "python",
   "pygments_lexer": "ipython3",
   "version": "3.9.7"
  }
 },
 "nbformat": 4,
 "nbformat_minor": 5
}
